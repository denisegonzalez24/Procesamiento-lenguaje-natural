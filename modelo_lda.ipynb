{
 "cells": [
  {
   "cell_type": "markdown",
   "metadata": {},
   "source": [
    "# MODELO LDA\n",
    "\n",
    "El modelo LDA (Latent Dirichlet Allocation) es una técnica de modelado de temas en procesamiento de lenguaje natural. Su objetivo es descubrir temas subyacentes en un conjunto de textos.\n",
    "\n",
    "Los tópicos son conjuntos de palabras que frecuentemente aparecen juntas en los documentos. Cada tópico representa un tema o concepto común en el texto, esto ayuda a identificar temas recurrentes (como \"calidad del servicio\" o \"ambiente acogedor\") mencioandos en reseñas."
   ]
  },
  {
   "cell_type": "code",
   "execution_count": null,
   "metadata": {},
   "outputs": [],
   "source": [
    "# Importar librerías\n",
    "import pandas as pd\n",
    "import numpy as np\n",
    "from gensim import corpora, models\n",
    "import pyLDAvis.gensim_models as gensimvis\n",
    "import pyLDAvis\n",
    "import matplotlib.pyplot as plt\n",
    "import nltk\n",
    "from nltk.corpus import stopwords\n",
    "from nltk.tokenize import word_tokenize"
   ]
  },
  {
   "cell_type": "code",
   "execution_count": null,
   "metadata": {},
   "outputs": [],
   "source": [
    "# Carga de dataframe\n",
    "df_review = pd.read_parquet('../review_final_final.parquet')\n",
    "df_review"
   ]
  },
  {
   "cell_type": "code",
   "execution_count": null,
   "metadata": {},
   "outputs": [],
   "source": [
    "# Seleccionar en df_positive solo reseñas positivas\n",
    "df_positive = df_review[df_review['sentiment'] == 'positive']\n"
   ]
  },
  {
   "cell_type": "code",
   "execution_count": null,
   "metadata": {},
   "outputs": [],
   "source": [
    "df_positive['tokens'] = df_positive['text'].apply(lambda x: x.lower().split())\n",
    "# Crear el diccionario y el corpus\n",
    "dictionary = corpora.Dictionary(df_positive['tokens'])\n",
    "corpus = [dictionary.doc2bow(text) for text in df_positive['tokens']]"
   ]
  },
  {
   "cell_type": "code",
   "execution_count": null,
   "metadata": {},
   "outputs": [],
   "source": [
    "# Aplicar LDA\n",
    "num_topics = 15\n",
    "lda_model = models.LdaModel(corpus, num_topics=num_topics, id2word=dictionary, passes=15)"
   ]
  },
  {
   "cell_type": "code",
   "execution_count": null,
   "metadata": {},
   "outputs": [],
   "source": [
    "# Visualizar el modelo LDA\n",
    "lda_visualization = gensimvis.prepare(lda_model, corpus, dictionary)\n",
    "pyLDAvis.save_html(lda_visualization, 'lda_visualization.html')"
   ]
  },
  {
   "cell_type": "code",
   "execution_count": null,
   "metadata": {},
   "outputs": [],
   "source": [
    "# Imprimir los tópicos\n",
    "for idx, topic in lda_model.print_topics(num_words=10):\n",
    "    print(f\"Topic {idx}: {topic}\")"
   ]
  },
  {
   "cell_type": "markdown",
   "metadata": {},
   "source": [
    "Creacion de diccionario en base a cada topico"
   ]
  },
  {
   "cell_type": "code",
   "execution_count": null,
   "metadata": {},
   "outputs": [],
   "source": [
    "topic_mapping2 = {\n",
    "    0: \"Tiempo de servicio o entrega optimo\",\n",
    "    1: \"Buena comida y relación calidad-precio\",\n",
    "    2: \"Calidad del servicio al cliente por parte del staff'\",\n",
    "    3: \"Opciones de platos específicos y comidas saludables\",\n",
    "    4: \"Fidelización de clientes\",\n",
    "    5: \"Porciones y precios razonables\",\n",
    "    6: \"Variedad de desayunos y opciones de café\",\n",
    "\n",
    "    7: \"Platos siempre frescos y bien preparados\",\n",
    "    8: \"Ambiente familiar y agradable\",\n",
    "    9: \"Comida auténtica y selección variada\",\n",
    "    10: \"Buena experiencia gastronómica\",\n",
    "    \n",
    "    11: \"Comodidad y experiencia hogareña\",\n",
    "\n",
    "    12: \"Servicio excelente y rápido\",\n",
    "\n",
    "    13: \"Platos populares, simples y funcionales\",\n",
    "    14: \" \",\n",
    "    15: ' '\n",
    "}\n"
   ]
  },
  {
   "cell_type": "code",
   "execution_count": null,
   "metadata": {},
   "outputs": [],
   "source": [
    "# Obtener los tópicos principales para cada reseña\n",
    "def get_top_topics(lda_model, bow, top_n=2):\n",
    "    topics = sorted(lda_model[bow], key=lambda x: -x[1])\n",
    "    return topics[:top_n]"
   ]
  },
  {
   "cell_type": "code",
   "execution_count": null,
   "metadata": {},
   "outputs": [],
   "source": [
    "# Aplicar la función para obtener los tópicos principales en cada reseña\n",
    "df_positive['top_topics'] = df_positive['tokens'].apply(\n",
    "    lambda x: get_top_topics(lda_model, dictionary.doc2bow(x))\n",
    ")"
   ]
  },
  {
   "cell_type": "code",
   "execution_count": null,
   "metadata": {},
   "outputs": [],
   "source": [
    "# Separar los dos tópicos principales en columnas diferentes\n",
    "df_positive['topic_1'] = df_positive['top_topics'].apply(lambda x: x[0][0] if len(x) > 0 else None)\n",
    "\n",
    "# Convertir a int\n",
    "df_positive['topic_1'] = df_positive['topic_1'].astype(int)\n",
    "\n",
    "# Aplicar el mapeo usando el diccionario\n",
    "df_positive['topic_1'] = df_positive['topic_1'].map(topic_mapping2) "
   ]
  },
  {
   "cell_type": "code",
   "execution_count": null,
   "metadata": {},
   "outputs": [],
   "source": [
    "df_business = pd.read_csv('../restaurantes_california.csv')\n",
    "df_business.drop(columns=['Unnamed: 0' , 'cluster','primary_category'], inplace=True)\n",
    "df_business.head()"
   ]
  },
  {
   "cell_type": "code",
   "execution_count": null,
   "metadata": {},
   "outputs": [],
   "source": [
    "# Agrupar por gmap_id y contar la frecuencia de topic_1\n",
    "topic_counts = df_positive.groupby(['gmap_id', 'topic_1']).size().reset_index(name='count')\n",
    "\n",
    "# Obtener el tópico más frecuente para cada gmap_id\n",
    "top_topic = topic_counts.loc[topic_counts.groupby('gmap_id')['count'].idxmax()]"
   ]
  },
  {
   "cell_type": "code",
   "execution_count": null,
   "metadata": {},
   "outputs": [],
   "source": [
    "# Renombrar la columna topic_1 a top_topic_1 para diferenciar en el merge\n",
    "top_topic = top_topic.rename(columns={'topic_1': 'top_topic_1'})\n",
    "\n",
    "\n",
    "# Hacer el merge con df_business usando gmap_id\n",
    "df_merged = pd.merge(df_business, top_topic[['gmap_id', 'top_topic_1']], on='gmap_id', how='left')\n",
    "df_merged.head(10)\n"
   ]
  },
  {
   "cell_type": "code",
   "execution_count": null,
   "metadata": {},
   "outputs": [],
   "source": [
    "# incluir el segundo tópico más repetido:\n",
    "topic_counts_sorted = topic_counts.sort_values(by=['gmap_id', 'count'], ascending=[True, False])\n",
    "second_top_topic = topic_counts_sorted.groupby('gmap_id').nth(1).reset_index()\n",
    "\n",
    "# Renombrar la columna topic_1 a second_top_topic para diferenciar en el merge\n",
    "second_top_topic = second_top_topic.rename(columns={'topic_1': 'second_top_topic'})\n",
    "\n",
    "# Hacer el merge con df_business para incluir el segundo tópico más repetido\n",
    "df_merged = pd.merge(df_merged, second_top_topic[['gmap_id', 'second_top_topic']], on='gmap_id', how='left')"
   ]
  },
  {
   "cell_type": "code",
   "execution_count": null,
   "metadata": {},
   "outputs": [],
   "source": [
    "# Reemplazar nulos\n",
    "df_merged['top_topic_1'].fillna('Establecimiento sin reseñas o rating insuficiente', inplace=True)\n",
    "df_merged['second_top_topic'].fillna('', inplace=True)\n",
    "\n",
    "# Unir en una sola columna\n",
    "df_merged['caracteristicas_clave'] = df_merged['top_topic_1'].astype(str) + \". \" + df_merged['second_top_topic'].astype(str)\n",
    "\n",
    "# Eliminar columnas innecesarias\n",
    "df_merged.drop(columns=['top_topic_1','second_top_topic'], inplace = True)"
   ]
  },
  {
   "cell_type": "code",
   "execution_count": null,
   "metadata": {},
   "outputs": [],
   "source": [
    "# Guardar datos\n",
    "#df_merged.to_parquet('3-caracteristicas.parquet', index=False)"
   ]
  }
 ],
 "metadata": {
  "language_info": {
   "name": "python"
  }
 },
 "nbformat": 4,
 "nbformat_minor": 2
}
